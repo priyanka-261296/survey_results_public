{
  "nbformat": 4,
  "nbformat_minor": 0,
  "metadata": {
    "colab": {
      "name": "survey_results_public.ipynb",
      "provenance": [],
      "collapsed_sections": [],
      "authorship_tag": "ABX9TyN8sTHDsAE8pMiJfNLW/Y65",
      "include_colab_link": true
    },
    "kernelspec": {
      "name": "python3",
      "display_name": "Python 3"
    },
    "language_info": {
      "name": "python"
    }
  },
  "cells": [
    {
      "cell_type": "markdown",
      "metadata": {
        "id": "view-in-github",
        "colab_type": "text"
      },
      "source": [
        "<a href=\"https://colab.research.google.com/github/priyanka-261296/survey_results_public/blob/main/survey_results_public.ipynb\" target=\"_parent\"><img src=\"https://colab.research.google.com/assets/colab-badge.svg\" alt=\"Open In Colab\"/></a>"
      ]
    },
    {
      "cell_type": "code",
      "metadata": {
        "id": "l04woVrES45X"
      },
      "source": [
        "import numpy as np\n",
        "import pandas as pd\n",
        "import matplotlib.pyplot as plt\n",
        "import seaborn as sns\n",
        "%matplotlib inline\n",
        "from sklearn.linear_model import LogisticRegression\n",
        "from sklearn.model_selection import train_test_split,cross_val_score\n",
        "from sklearn.metrics import classification_report as cr,confusion_matrix as cm,accuracy_score as ac\n",
        "import warnings\n",
        "warnings.filterwarnings('ignore')\n"
      ],
      "execution_count": null,
      "outputs": []
    },
    {
      "cell_type": "code",
      "metadata": {
        "colab": {
          "base_uri": "https://localhost:8080/",
          "height": 1000
        },
        "id": "_kXhN5O6S9Jw",
        "outputId": "b6e89612-78c5-4663-a9a5-a5c083548bd3"
      },
      "source": [
        "df=pd.read_csv(\"/content/survey_results_public.csv\")\n",
        "df"
      ],
      "execution_count": null,
      "outputs": [
        {
          "output_type": "execute_result",
          "data": {
            "text/html": [
              "<div>\n",
              "<style scoped>\n",
              "    .dataframe tbody tr th:only-of-type {\n",
              "        vertical-align: middle;\n",
              "    }\n",
              "\n",
              "    .dataframe tbody tr th {\n",
              "        vertical-align: top;\n",
              "    }\n",
              "\n",
              "    .dataframe thead th {\n",
              "        text-align: right;\n",
              "    }\n",
              "</style>\n",
              "<table border=\"1\" class=\"dataframe\">\n",
              "  <thead>\n",
              "    <tr style=\"text-align: right;\">\n",
              "      <th></th>\n",
              "      <th>Respondent</th>\n",
              "      <th>MainBranch</th>\n",
              "      <th>Hobbyist</th>\n",
              "      <th>Age</th>\n",
              "      <th>Age1stCode</th>\n",
              "      <th>CompFreq</th>\n",
              "      <th>CompTotal</th>\n",
              "      <th>ConvertedComp</th>\n",
              "      <th>Country</th>\n",
              "      <th>CurrencyDesc</th>\n",
              "      <th>CurrencySymbol</th>\n",
              "      <th>DatabaseDesireNextYear</th>\n",
              "      <th>DatabaseWorkedWith</th>\n",
              "      <th>DevType</th>\n",
              "      <th>EdLevel</th>\n",
              "      <th>Employment</th>\n",
              "      <th>Ethnicity</th>\n",
              "      <th>Gender</th>\n",
              "      <th>JobFactors</th>\n",
              "      <th>JobSat</th>\n",
              "      <th>JobSeek</th>\n",
              "      <th>LanguageDesireNextYear</th>\n",
              "      <th>LanguageWorkedWith</th>\n",
              "      <th>MiscTechDesireNextYear</th>\n",
              "      <th>MiscTechWorkedWith</th>\n",
              "      <th>NEWCollabToolsDesireNextYear</th>\n",
              "      <th>NEWCollabToolsWorkedWith</th>\n",
              "      <th>NEWDevOps</th>\n",
              "      <th>NEWDevOpsImpt</th>\n",
              "      <th>NEWEdImpt</th>\n",
              "      <th>NEWJobHunt</th>\n",
              "      <th>NEWJobHuntResearch</th>\n",
              "      <th>NEWLearn</th>\n",
              "      <th>NEWOffTopic</th>\n",
              "      <th>NEWOnboardGood</th>\n",
              "      <th>NEWOtherComms</th>\n",
              "      <th>NEWOvertime</th>\n",
              "      <th>NEWPurchaseResearch</th>\n",
              "      <th>NEWPurpleLink</th>\n",
              "      <th>NEWSOSites</th>\n",
              "      <th>NEWStuck</th>\n",
              "      <th>OpSys</th>\n",
              "      <th>OrgSize</th>\n",
              "      <th>PlatformDesireNextYear</th>\n",
              "      <th>PlatformWorkedWith</th>\n",
              "      <th>PurchaseWhat</th>\n",
              "      <th>Sexuality</th>\n",
              "      <th>SOAccount</th>\n",
              "      <th>SOComm</th>\n",
              "      <th>SOPartFreq</th>\n",
              "      <th>SOVisitFreq</th>\n",
              "      <th>SurveyEase</th>\n",
              "      <th>SurveyLength</th>\n",
              "      <th>Trans</th>\n",
              "      <th>UndergradMajor</th>\n",
              "      <th>WebframeDesireNextYear</th>\n",
              "      <th>WebframeWorkedWith</th>\n",
              "      <th>WelcomeChange</th>\n",
              "      <th>WorkWeekHrs</th>\n",
              "      <th>YearsCode</th>\n",
              "      <th>YearsCodePro</th>\n",
              "    </tr>\n",
              "  </thead>\n",
              "  <tbody>\n",
              "    <tr>\n",
              "      <th>0</th>\n",
              "      <td>1</td>\n",
              "      <td>I am a developer by profession</td>\n",
              "      <td>Yes</td>\n",
              "      <td>NaN</td>\n",
              "      <td>13</td>\n",
              "      <td>Monthly</td>\n",
              "      <td>NaN</td>\n",
              "      <td>NaN</td>\n",
              "      <td>Germany</td>\n",
              "      <td>European Euro</td>\n",
              "      <td>EUR</td>\n",
              "      <td>Microsoft SQL Server</td>\n",
              "      <td>Elasticsearch;Microsoft SQL Server;Oracle</td>\n",
              "      <td>Developer, desktop or enterprise applications;...</td>\n",
              "      <td>Master’s degree (M.A., M.S., M.Eng., MBA, etc.)</td>\n",
              "      <td>Independent contractor, freelancer, or self-em...</td>\n",
              "      <td>White or of European descent</td>\n",
              "      <td>Man</td>\n",
              "      <td>Languages, frameworks, and other technologies ...</td>\n",
              "      <td>Slightly satisfied</td>\n",
              "      <td>I am not interested in new job opportunities</td>\n",
              "      <td>C#;HTML/CSS;JavaScript</td>\n",
              "      <td>C#;HTML/CSS;JavaScript</td>\n",
              "      <td>.NET Core;Xamarin</td>\n",
              "      <td>.NET;.NET Core</td>\n",
              "      <td>Microsoft Teams;Microsoft Azure;Trello</td>\n",
              "      <td>Confluence;Jira;Slack;Microsoft Azure;Trello</td>\n",
              "      <td>No</td>\n",
              "      <td>Somewhat important</td>\n",
              "      <td>Fairly important</td>\n",
              "      <td>NaN</td>\n",
              "      <td>NaN</td>\n",
              "      <td>Once a year</td>\n",
              "      <td>Not sure</td>\n",
              "      <td>NaN</td>\n",
              "      <td>No</td>\n",
              "      <td>Often: 1-2 days per week or more</td>\n",
              "      <td>Start a free trial;Ask developers I know/work ...</td>\n",
              "      <td>Amused</td>\n",
              "      <td>Stack Overflow (public Q&amp;A for anyone who codes)</td>\n",
              "      <td>Visit Stack Overflow;Go for a walk or other ph...</td>\n",
              "      <td>Windows</td>\n",
              "      <td>2 to 9 employees</td>\n",
              "      <td>Android;iOS;Kubernetes;Microsoft Azure;Windows</td>\n",
              "      <td>Windows</td>\n",
              "      <td>NaN</td>\n",
              "      <td>Straight / Heterosexual</td>\n",
              "      <td>No</td>\n",
              "      <td>No, not at all</td>\n",
              "      <td>NaN</td>\n",
              "      <td>Multiple times per day</td>\n",
              "      <td>Neither easy nor difficult</td>\n",
              "      <td>Appropriate in length</td>\n",
              "      <td>No</td>\n",
              "      <td>Computer science, computer engineering, or sof...</td>\n",
              "      <td>ASP.NET Core</td>\n",
              "      <td>ASP.NET;ASP.NET Core</td>\n",
              "      <td>Just as welcome now as I felt last year</td>\n",
              "      <td>50.0</td>\n",
              "      <td>36</td>\n",
              "      <td>27</td>\n",
              "    </tr>\n",
              "    <tr>\n",
              "      <th>1</th>\n",
              "      <td>2</td>\n",
              "      <td>I am a developer by profession</td>\n",
              "      <td>No</td>\n",
              "      <td>NaN</td>\n",
              "      <td>19</td>\n",
              "      <td>NaN</td>\n",
              "      <td>NaN</td>\n",
              "      <td>NaN</td>\n",
              "      <td>United Kingdom</td>\n",
              "      <td>Pound sterling</td>\n",
              "      <td>GBP</td>\n",
              "      <td>NaN</td>\n",
              "      <td>NaN</td>\n",
              "      <td>Developer, full-stack;Developer, mobile</td>\n",
              "      <td>Bachelor’s degree (B.A., B.S., B.Eng., etc.)</td>\n",
              "      <td>Employed full-time</td>\n",
              "      <td>NaN</td>\n",
              "      <td>NaN</td>\n",
              "      <td>NaN</td>\n",
              "      <td>Very dissatisfied</td>\n",
              "      <td>I am not interested in new job opportunities</td>\n",
              "      <td>Python;Swift</td>\n",
              "      <td>JavaScript;Swift</td>\n",
              "      <td>React Native;TensorFlow;Unity 3D</td>\n",
              "      <td>React Native</td>\n",
              "      <td>Github;Slack</td>\n",
              "      <td>Confluence;Jira;Github;Gitlab;Slack</td>\n",
              "      <td>NaN</td>\n",
              "      <td>NaN</td>\n",
              "      <td>Fairly important</td>\n",
              "      <td>NaN</td>\n",
              "      <td>NaN</td>\n",
              "      <td>Once a year</td>\n",
              "      <td>Not sure</td>\n",
              "      <td>NaN</td>\n",
              "      <td>No</td>\n",
              "      <td>NaN</td>\n",
              "      <td>NaN</td>\n",
              "      <td>Amused</td>\n",
              "      <td>Stack Overflow (public Q&amp;A for anyone who code...</td>\n",
              "      <td>Visit Stack Overflow;Go for a walk or other ph...</td>\n",
              "      <td>MacOS</td>\n",
              "      <td>1,000 to 4,999 employees</td>\n",
              "      <td>iOS;Kubernetes;Linux;MacOS</td>\n",
              "      <td>iOS</td>\n",
              "      <td>I have little or no influence</td>\n",
              "      <td>NaN</td>\n",
              "      <td>Yes</td>\n",
              "      <td>Yes, definitely</td>\n",
              "      <td>Less than once per month or monthly</td>\n",
              "      <td>Multiple times per day</td>\n",
              "      <td>NaN</td>\n",
              "      <td>NaN</td>\n",
              "      <td>NaN</td>\n",
              "      <td>Computer science, computer engineering, or sof...</td>\n",
              "      <td>NaN</td>\n",
              "      <td>NaN</td>\n",
              "      <td>Somewhat more welcome now than last year</td>\n",
              "      <td>NaN</td>\n",
              "      <td>7</td>\n",
              "      <td>4</td>\n",
              "    </tr>\n",
              "    <tr>\n",
              "      <th>2</th>\n",
              "      <td>3</td>\n",
              "      <td>I code primarily as a hobby</td>\n",
              "      <td>Yes</td>\n",
              "      <td>NaN</td>\n",
              "      <td>15</td>\n",
              "      <td>NaN</td>\n",
              "      <td>NaN</td>\n",
              "      <td>NaN</td>\n",
              "      <td>Russian Federation</td>\n",
              "      <td>NaN</td>\n",
              "      <td>NaN</td>\n",
              "      <td>NaN</td>\n",
              "      <td>NaN</td>\n",
              "      <td>NaN</td>\n",
              "      <td>NaN</td>\n",
              "      <td>NaN</td>\n",
              "      <td>NaN</td>\n",
              "      <td>NaN</td>\n",
              "      <td>NaN</td>\n",
              "      <td>NaN</td>\n",
              "      <td>NaN</td>\n",
              "      <td>Objective-C;Python;Swift</td>\n",
              "      <td>Objective-C;Python;Swift</td>\n",
              "      <td>NaN</td>\n",
              "      <td>NaN</td>\n",
              "      <td>NaN</td>\n",
              "      <td>NaN</td>\n",
              "      <td>NaN</td>\n",
              "      <td>NaN</td>\n",
              "      <td>NaN</td>\n",
              "      <td>NaN</td>\n",
              "      <td>NaN</td>\n",
              "      <td>Once a decade</td>\n",
              "      <td>NaN</td>\n",
              "      <td>NaN</td>\n",
              "      <td>No</td>\n",
              "      <td>NaN</td>\n",
              "      <td>NaN</td>\n",
              "      <td>NaN</td>\n",
              "      <td>Stack Overflow (public Q&amp;A for anyone who codes)</td>\n",
              "      <td>NaN</td>\n",
              "      <td>Linux-based</td>\n",
              "      <td>NaN</td>\n",
              "      <td>NaN</td>\n",
              "      <td>NaN</td>\n",
              "      <td>NaN</td>\n",
              "      <td>NaN</td>\n",
              "      <td>Yes</td>\n",
              "      <td>Yes, somewhat</td>\n",
              "      <td>A few times per month or weekly</td>\n",
              "      <td>Daily or almost daily</td>\n",
              "      <td>Neither easy nor difficult</td>\n",
              "      <td>Appropriate in length</td>\n",
              "      <td>NaN</td>\n",
              "      <td>NaN</td>\n",
              "      <td>NaN</td>\n",
              "      <td>NaN</td>\n",
              "      <td>Somewhat more welcome now than last year</td>\n",
              "      <td>NaN</td>\n",
              "      <td>4</td>\n",
              "      <td>NaN</td>\n",
              "    </tr>\n",
              "    <tr>\n",
              "      <th>3</th>\n",
              "      <td>4</td>\n",
              "      <td>I am a developer by profession</td>\n",
              "      <td>Yes</td>\n",
              "      <td>25.0</td>\n",
              "      <td>18</td>\n",
              "      <td>NaN</td>\n",
              "      <td>NaN</td>\n",
              "      <td>NaN</td>\n",
              "      <td>Albania</td>\n",
              "      <td>Albanian lek</td>\n",
              "      <td>ALL</td>\n",
              "      <td>NaN</td>\n",
              "      <td>NaN</td>\n",
              "      <td>NaN</td>\n",
              "      <td>Master’s degree (M.A., M.S., M.Eng., MBA, etc.)</td>\n",
              "      <td>NaN</td>\n",
              "      <td>White or of European descent</td>\n",
              "      <td>Man</td>\n",
              "      <td>Flex time or a flexible schedule;Office enviro...</td>\n",
              "      <td>Slightly dissatisfied</td>\n",
              "      <td>I’m not actively looking, but I am open to new...</td>\n",
              "      <td>NaN</td>\n",
              "      <td>NaN</td>\n",
              "      <td>NaN</td>\n",
              "      <td>NaN</td>\n",
              "      <td>NaN</td>\n",
              "      <td>NaN</td>\n",
              "      <td>No</td>\n",
              "      <td>NaN</td>\n",
              "      <td>Not at all important/not necessary</td>\n",
              "      <td>Curious about other opportunities;Wanting to w...</td>\n",
              "      <td>NaN</td>\n",
              "      <td>Once a year</td>\n",
              "      <td>Not sure</td>\n",
              "      <td>Yes</td>\n",
              "      <td>Yes</td>\n",
              "      <td>Occasionally: 1-2 days per quarter but less th...</td>\n",
              "      <td>NaN</td>\n",
              "      <td>NaN</td>\n",
              "      <td>Stack Overflow (public Q&amp;A for anyone who code...</td>\n",
              "      <td>NaN</td>\n",
              "      <td>Linux-based</td>\n",
              "      <td>20 to 99 employees</td>\n",
              "      <td>NaN</td>\n",
              "      <td>NaN</td>\n",
              "      <td>I have a great deal of influence</td>\n",
              "      <td>Straight / Heterosexual</td>\n",
              "      <td>Yes</td>\n",
              "      <td>Yes, definitely</td>\n",
              "      <td>A few times per month or weekly</td>\n",
              "      <td>Multiple times per day</td>\n",
              "      <td>NaN</td>\n",
              "      <td>NaN</td>\n",
              "      <td>No</td>\n",
              "      <td>Computer science, computer engineering, or sof...</td>\n",
              "      <td>NaN</td>\n",
              "      <td>NaN</td>\n",
              "      <td>Somewhat less welcome now than last year</td>\n",
              "      <td>40.0</td>\n",
              "      <td>7</td>\n",
              "      <td>4</td>\n",
              "    </tr>\n",
              "    <tr>\n",
              "      <th>4</th>\n",
              "      <td>5</td>\n",
              "      <td>I used to be a developer by profession, but no...</td>\n",
              "      <td>Yes</td>\n",
              "      <td>31.0</td>\n",
              "      <td>16</td>\n",
              "      <td>NaN</td>\n",
              "      <td>NaN</td>\n",
              "      <td>NaN</td>\n",
              "      <td>United States</td>\n",
              "      <td>NaN</td>\n",
              "      <td>NaN</td>\n",
              "      <td>MySQL;PostgreSQL</td>\n",
              "      <td>MySQL;PostgreSQL;Redis;SQLite</td>\n",
              "      <td>NaN</td>\n",
              "      <td>Bachelor’s degree (B.A., B.S., B.Eng., etc.)</td>\n",
              "      <td>Employed full-time</td>\n",
              "      <td>White or of European descent</td>\n",
              "      <td>Man</td>\n",
              "      <td>NaN</td>\n",
              "      <td>NaN</td>\n",
              "      <td>NaN</td>\n",
              "      <td>Java;Ruby;Scala</td>\n",
              "      <td>HTML/CSS;Ruby;SQL</td>\n",
              "      <td>Ansible;Chef</td>\n",
              "      <td>Ansible</td>\n",
              "      <td>Github;Google Suite (Docs, Meet, etc)</td>\n",
              "      <td>Confluence;Jira;Github;Slack;Google Suite (Doc...</td>\n",
              "      <td>NaN</td>\n",
              "      <td>NaN</td>\n",
              "      <td>Very important</td>\n",
              "      <td>NaN</td>\n",
              "      <td>NaN</td>\n",
              "      <td>Once a year</td>\n",
              "      <td>No</td>\n",
              "      <td>NaN</td>\n",
              "      <td>Yes</td>\n",
              "      <td>NaN</td>\n",
              "      <td>Start a free trial;Ask developers I know/work ...</td>\n",
              "      <td>Hello, old friend</td>\n",
              "      <td>Stack Overflow (public Q&amp;A for anyone who code...</td>\n",
              "      <td>Call a coworker or friend;Visit Stack Overflow...</td>\n",
              "      <td>Windows</td>\n",
              "      <td>NaN</td>\n",
              "      <td>Docker;Google Cloud Platform;Heroku;Linux;Windows</td>\n",
              "      <td>AWS;Docker;Linux;MacOS;Windows</td>\n",
              "      <td>NaN</td>\n",
              "      <td>Straight / Heterosexual</td>\n",
              "      <td>Yes</td>\n",
              "      <td>Yes, somewhat</td>\n",
              "      <td>Less than once per month or monthly</td>\n",
              "      <td>A few times per month or weekly</td>\n",
              "      <td>Easy</td>\n",
              "      <td>Too short</td>\n",
              "      <td>No</td>\n",
              "      <td>Computer science, computer engineering, or sof...</td>\n",
              "      <td>Django;Ruby on Rails</td>\n",
              "      <td>Ruby on Rails</td>\n",
              "      <td>Just as welcome now as I felt last year</td>\n",
              "      <td>NaN</td>\n",
              "      <td>15</td>\n",
              "      <td>8</td>\n",
              "    </tr>\n",
              "    <tr>\n",
              "      <th>...</th>\n",
              "      <td>...</td>\n",
              "      <td>...</td>\n",
              "      <td>...</td>\n",
              "      <td>...</td>\n",
              "      <td>...</td>\n",
              "      <td>...</td>\n",
              "      <td>...</td>\n",
              "      <td>...</td>\n",
              "      <td>...</td>\n",
              "      <td>...</td>\n",
              "      <td>...</td>\n",
              "      <td>...</td>\n",
              "      <td>...</td>\n",
              "      <td>...</td>\n",
              "      <td>...</td>\n",
              "      <td>...</td>\n",
              "      <td>...</td>\n",
              "      <td>...</td>\n",
              "      <td>...</td>\n",
              "      <td>...</td>\n",
              "      <td>...</td>\n",
              "      <td>...</td>\n",
              "      <td>...</td>\n",
              "      <td>...</td>\n",
              "      <td>...</td>\n",
              "      <td>...</td>\n",
              "      <td>...</td>\n",
              "      <td>...</td>\n",
              "      <td>...</td>\n",
              "      <td>...</td>\n",
              "      <td>...</td>\n",
              "      <td>...</td>\n",
              "      <td>...</td>\n",
              "      <td>...</td>\n",
              "      <td>...</td>\n",
              "      <td>...</td>\n",
              "      <td>...</td>\n",
              "      <td>...</td>\n",
              "      <td>...</td>\n",
              "      <td>...</td>\n",
              "      <td>...</td>\n",
              "      <td>...</td>\n",
              "      <td>...</td>\n",
              "      <td>...</td>\n",
              "      <td>...</td>\n",
              "      <td>...</td>\n",
              "      <td>...</td>\n",
              "      <td>...</td>\n",
              "      <td>...</td>\n",
              "      <td>...</td>\n",
              "      <td>...</td>\n",
              "      <td>...</td>\n",
              "      <td>...</td>\n",
              "      <td>...</td>\n",
              "      <td>...</td>\n",
              "      <td>...</td>\n",
              "      <td>...</td>\n",
              "      <td>...</td>\n",
              "      <td>...</td>\n",
              "      <td>...</td>\n",
              "      <td>...</td>\n",
              "    </tr>\n",
              "    <tr>\n",
              "      <th>3083</th>\n",
              "      <td>3097</td>\n",
              "      <td>I code primarily as a hobby</td>\n",
              "      <td>Yes</td>\n",
              "      <td>18.0</td>\n",
              "      <td>11</td>\n",
              "      <td>NaN</td>\n",
              "      <td>NaN</td>\n",
              "      <td>NaN</td>\n",
              "      <td>United States</td>\n",
              "      <td>NaN</td>\n",
              "      <td>NaN</td>\n",
              "      <td>PostgreSQL</td>\n",
              "      <td>MySQL;PostgreSQL;SQLite</td>\n",
              "      <td>Developer, full-stack</td>\n",
              "      <td>Secondary school (e.g. American high school, G...</td>\n",
              "      <td>Employed part-time</td>\n",
              "      <td>White or of European descent</td>\n",
              "      <td>Man</td>\n",
              "      <td>NaN</td>\n",
              "      <td>NaN</td>\n",
              "      <td>NaN</td>\n",
              "      <td>Assembly;C;C#;C++;Go;HTML/CSS;Java;JavaScript;...</td>\n",
              "      <td>HTML/CSS;Java;JavaScript;Python;Ruby;SQL</td>\n",
              "      <td>.NET Core;Node.js;TensorFlow;Unity 3D</td>\n",
              "      <td>Node.js;TensorFlow;Unity 3D</td>\n",
              "      <td>Github;Slack;Google Suite (Docs, Meet, etc)</td>\n",
              "      <td>Github;Slack;Google Suite (Docs, Meet, etc)</td>\n",
              "      <td>NaN</td>\n",
              "      <td>NaN</td>\n",
              "      <td>Not at all important/not necessary</td>\n",
              "      <td>NaN</td>\n",
              "      <td>NaN</td>\n",
              "      <td>Every few months</td>\n",
              "      <td>NaN</td>\n",
              "      <td>NaN</td>\n",
              "      <td>No</td>\n",
              "      <td>NaN</td>\n",
              "      <td>Ask developers I know/work with;Visit develope...</td>\n",
              "      <td>Hello, old friend</td>\n",
              "      <td>Stack Overflow (public Q&amp;A for anyone who code...</td>\n",
              "      <td>Play games;Visit Stack Overflow;Watch help / t...</td>\n",
              "      <td>MacOS</td>\n",
              "      <td>NaN</td>\n",
              "      <td>Docker;Heroku;MacOS</td>\n",
              "      <td>Docker;Heroku;MacOS</td>\n",
              "      <td>NaN</td>\n",
              "      <td>Straight / Heterosexual</td>\n",
              "      <td>Yes</td>\n",
              "      <td>Neutral</td>\n",
              "      <td>Less than once per month or monthly</td>\n",
              "      <td>Daily or almost daily</td>\n",
              "      <td>Easy</td>\n",
              "      <td>Appropriate in length</td>\n",
              "      <td>No</td>\n",
              "      <td>NaN</td>\n",
              "      <td>ASP.NET Core;Ruby on Rails;Vue.js</td>\n",
              "      <td>Express;Flask;jQuery;Ruby on Rails;Vue.js</td>\n",
              "      <td>Just as welcome now as I felt last year</td>\n",
              "      <td>NaN</td>\n",
              "      <td>7</td>\n",
              "      <td>NaN</td>\n",
              "    </tr>\n",
              "    <tr>\n",
              "      <th>3084</th>\n",
              "      <td>3098</td>\n",
              "      <td>I am a developer by profession</td>\n",
              "      <td>Yes</td>\n",
              "      <td>21.0</td>\n",
              "      <td>15</td>\n",
              "      <td>Monthly</td>\n",
              "      <td>2500.0</td>\n",
              "      <td>30000.0</td>\n",
              "      <td>United States</td>\n",
              "      <td>United States dollar</td>\n",
              "      <td>USD</td>\n",
              "      <td>Couchbase;DynamoDB;Elasticsearch;Firebase;Mari...</td>\n",
              "      <td>Couchbase;MySQL;PostgreSQL;SQLite</td>\n",
              "      <td>Data scientist or machine learning specialist;...</td>\n",
              "      <td>Master’s degree (M.A., M.S., M.Eng., MBA, etc.)</td>\n",
              "      <td>Employed full-time</td>\n",
              "      <td>Black or of African descent;Hispanic or Latino...</td>\n",
              "      <td>Man</td>\n",
              "      <td>Industry that I’d be working in;Office environ...</td>\n",
              "      <td>Very dissatisfied</td>\n",
              "      <td>I am actively looking for a job</td>\n",
              "      <td>JavaScript;Julia;Python;R;SQL;Swift;TypeScript</td>\n",
              "      <td>JavaScript;Python;R;SQL</td>\n",
              "      <td>Keras;Node.js;Pandas;Puppet;React Native;Teraf...</td>\n",
              "      <td>Keras;Node.js;Pandas;Teraform</td>\n",
              "      <td>Github;Gitlab;Google Suite (Docs, Meet, etc)</td>\n",
              "      <td>Github;Gitlab;Slack;Microsoft Azure;Google Sui...</td>\n",
              "      <td>Yes</td>\n",
              "      <td>Extremely important</td>\n",
              "      <td>Very important</td>\n",
              "      <td>Curious about other opportunities;Better compe...</td>\n",
              "      <td>Read company media, such as employee blogs or ...</td>\n",
              "      <td>Every few months</td>\n",
              "      <td>Not sure</td>\n",
              "      <td>No</td>\n",
              "      <td>Yes</td>\n",
              "      <td>Often: 1-2 days per week or more</td>\n",
              "      <td>Start a free trial;Ask developers I know/work ...</td>\n",
              "      <td>Annoyed</td>\n",
              "      <td>Stack Overflow (public Q&amp;A for anyone who code...</td>\n",
              "      <td>Call a coworker or friend;Visit Stack Overflow...</td>\n",
              "      <td>Linux-based</td>\n",
              "      <td>10 to 19 employees</td>\n",
              "      <td>AWS;Docker;Google Cloud Platform;Kubernetes;Li...</td>\n",
              "      <td>AWS;Docker;Google Cloud Platform;Heroku;IBM Cl...</td>\n",
              "      <td>I have some influence</td>\n",
              "      <td>Bisexual</td>\n",
              "      <td>Not sure/can't remember</td>\n",
              "      <td>No, not at all</td>\n",
              "      <td>NaN</td>\n",
              "      <td>A few times per week</td>\n",
              "      <td>Difficult</td>\n",
              "      <td>Too long</td>\n",
              "      <td>No</td>\n",
              "      <td>Mathematics or statistics</td>\n",
              "      <td>Django;Express;Flask;Gatsby;React.js</td>\n",
              "      <td>NaN</td>\n",
              "      <td>Just as welcome now as I felt last year</td>\n",
              "      <td>40.0</td>\n",
              "      <td>6</td>\n",
              "      <td>4</td>\n",
              "    </tr>\n",
              "    <tr>\n",
              "      <th>3085</th>\n",
              "      <td>3099</td>\n",
              "      <td>I am a developer by profession</td>\n",
              "      <td>Yes</td>\n",
              "      <td>26.0</td>\n",
              "      <td>19</td>\n",
              "      <td>Yearly</td>\n",
              "      <td>120600.0</td>\n",
              "      <td>120600.0</td>\n",
              "      <td>United States</td>\n",
              "      <td>United States dollar</td>\n",
              "      <td>USD</td>\n",
              "      <td>Firebase;Microsoft SQL Server;SQLite</td>\n",
              "      <td>Firebase</td>\n",
              "      <td>Developer, front-end;Developer, full-stack;Dev...</td>\n",
              "      <td>Bachelor’s degree (B.A., B.S., B.Eng., etc.)</td>\n",
              "      <td>Employed full-time</td>\n",
              "      <td>Hispanic or Latino/a/x</td>\n",
              "      <td>Man</td>\n",
              "      <td>Flex time or a flexible schedule;Languages, fr...</td>\n",
              "      <td>Very satisfied</td>\n",
              "      <td>I’m not actively looking, but I am open to new...</td>\n",
              "      <td>JavaScript;Python;TypeScript</td>\n",
              "      <td>Bash/Shell/PowerShell;HTML/CSS;JavaScript;Pyth...</td>\n",
              "      <td>Node.js;React Native</td>\n",
              "      <td>Node.js;React Native</td>\n",
              "      <td>Confluence;Jira;Github;Google Suite (Docs, Mee...</td>\n",
              "      <td>Confluence;Jira;Github;Google Suite (Docs, Mee...</td>\n",
              "      <td>Yes</td>\n",
              "      <td>Extremely important</td>\n",
              "      <td>Not at all important/not necessary</td>\n",
              "      <td>Curious about other opportunities;Better compe...</td>\n",
              "      <td>Company reviews from third party sites (e.g. G...</td>\n",
              "      <td>Once a year</td>\n",
              "      <td>Not sure</td>\n",
              "      <td>No</td>\n",
              "      <td>No</td>\n",
              "      <td>Sometimes: 1-2 days per month but less than we...</td>\n",
              "      <td>Start a free trial;Ask developers I know/work ...</td>\n",
              "      <td>Hello, old friend</td>\n",
              "      <td>Stack Overflow (public Q&amp;A for anyone who codes)</td>\n",
              "      <td>Call a coworker or friend;Visit Stack Overflow...</td>\n",
              "      <td>Windows</td>\n",
              "      <td>10,000 or more employees</td>\n",
              "      <td>iOS;MacOS</td>\n",
              "      <td>iOS;MacOS;Windows</td>\n",
              "      <td>I have some influence</td>\n",
              "      <td>Straight / Heterosexual</td>\n",
              "      <td>Yes</td>\n",
              "      <td>Yes, somewhat</td>\n",
              "      <td>Less than once per month or monthly</td>\n",
              "      <td>Multiple times per day</td>\n",
              "      <td>Easy</td>\n",
              "      <td>Appropriate in length</td>\n",
              "      <td>No</td>\n",
              "      <td>Another engineering discipline (such as civil,...</td>\n",
              "      <td>Django;Express;React.js</td>\n",
              "      <td>Express;React.js</td>\n",
              "      <td>Just as welcome now as I felt last year</td>\n",
              "      <td>35.0</td>\n",
              "      <td>8</td>\n",
              "      <td>4</td>\n",
              "    </tr>\n",
              "    <tr>\n",
              "      <th>3086</th>\n",
              "      <td>3100</td>\n",
              "      <td>I am a developer by profession</td>\n",
              "      <td>Yes</td>\n",
              "      <td>31.0</td>\n",
              "      <td>21</td>\n",
              "      <td>Yearly</td>\n",
              "      <td>150000.0</td>\n",
              "      <td>150000.0</td>\n",
              "      <td>United States</td>\n",
              "      <td>United States dollar</td>\n",
              "      <td>USD</td>\n",
              "      <td>Cassandra;DynamoDB;Elasticsearch</td>\n",
              "      <td>PostgreSQL</td>\n",
              "      <td>Developer, back-end;Developer, full-stack</td>\n",
              "      <td>Master’s degree (M.A., M.S., M.Eng., MBA, etc.)</td>\n",
              "      <td>Employed full-time</td>\n",
              "      <td>South Asian</td>\n",
              "      <td>Man</td>\n",
              "      <td>Diversity of the company or organization;Offic...</td>\n",
              "      <td>Slightly dissatisfied</td>\n",
              "      <td>I’m not actively looking, but I am open to new...</td>\n",
              "      <td>Go;Haskell;Rust;TypeScript</td>\n",
              "      <td>Go;SQL;TypeScript</td>\n",
              "      <td>NaN</td>\n",
              "      <td>NaN</td>\n",
              "      <td>Confluence;Jira;Github;Slack;Google Suite (Doc...</td>\n",
              "      <td>Confluence;Jira;Github;Slack;Google Suite (Doc...</td>\n",
              "      <td>Yes</td>\n",
              "      <td>Somewhat important</td>\n",
              "      <td>Somewhat important</td>\n",
              "      <td>Better compensation;Growth or leadership oppor...</td>\n",
              "      <td>Personal network - friends or family</td>\n",
              "      <td>Once a year</td>\n",
              "      <td>NaN</td>\n",
              "      <td>No</td>\n",
              "      <td>Yes</td>\n",
              "      <td>Sometimes: 1-2 days per month but less than we...</td>\n",
              "      <td>NaN</td>\n",
              "      <td>Annoyed</td>\n",
              "      <td>Stack Overflow (public Q&amp;A for anyone who code...</td>\n",
              "      <td>Visit Stack Overflow;Watch help / tutorial videos</td>\n",
              "      <td>MacOS</td>\n",
              "      <td>100 to 499 employees</td>\n",
              "      <td>Docker;Google Cloud Platform;Kubernetes</td>\n",
              "      <td>Linux;MacOS</td>\n",
              "      <td>I have little or no influence</td>\n",
              "      <td>Straight / Heterosexual</td>\n",
              "      <td>Yes</td>\n",
              "      <td>No, not really</td>\n",
              "      <td>Less than once per month or monthly</td>\n",
              "      <td>A few times per week</td>\n",
              "      <td>Easy</td>\n",
              "      <td>Appropriate in length</td>\n",
              "      <td>No</td>\n",
              "      <td>A natural science (such as biology, chemistry,...</td>\n",
              "      <td>Gatsby</td>\n",
              "      <td>React.js</td>\n",
              "      <td>NaN</td>\n",
              "      <td>45.0</td>\n",
              "      <td>8</td>\n",
              "      <td>6</td>\n",
              "    </tr>\n",
              "    <tr>\n",
              "      <th>3087</th>\n",
              "      <td>3101</td>\n",
              "      <td>I am a developer by profession</td>\n",
              "      <td>Yes</td>\n",
              "      <td>19.0</td>\n",
              "      <td>11</td>\n",
              "      <td>Weekly</td>\n",
              "      <td>NaN</td>\n",
              "      <td>NaN</td>\n",
              "      <td>United States</td>\n",
              "      <td>United States dollar</td>\n",
              "      <td>USD</td>\n",
              "      <td>Firebase;MongoDB</td>\n",
              "      <td>DynamoDB;Firebase;Microsoft SQL Server;MongoDB...</td>\n",
              "      <td>Developer, back-end;Developer, front-end;Devel...</td>\n",
              "      <td>NaN</td>\n",
              "      <td>Employed full-time</td>\n",
              "      <td>NaN</td>\n",
              "      <td>Man</td>\n",
              "      <td>Flex time or a flexible schedule;Languages, fr...</td>\n",
              "      <td>Very satisfied</td>\n",
              "      <td>I am not interested in new job opportunities</td>\n",
              "      <td>Haskell;HTML/CSS;JavaScript;Swift;TypeScript</td>\n",
              "      <td>HTML/CSS;Java;JavaScript;SQL;TypeScript</td>\n",
              "      <td>Node.js;React Native</td>\n",
              "      <td>Node.js;React Native</td>\n",
              "      <td>Slack;Microsoft Azure</td>\n",
              "      <td>Jira;Github;Slack;Microsoft Teams;Microsoft Az...</td>\n",
              "      <td>Yes</td>\n",
              "      <td>Extremely important</td>\n",
              "      <td>Not at all important/not necessary</td>\n",
              "      <td>Better compensation;Trouble with my teammates;...</td>\n",
              "      <td>Read company media, such as employee blogs or ...</td>\n",
              "      <td>Every few months</td>\n",
              "      <td>Not sure</td>\n",
              "      <td>Yes</td>\n",
              "      <td>Yes</td>\n",
              "      <td>Sometimes: 1-2 days per month but less than we...</td>\n",
              "      <td>Start a free trial;Ask developers I know/work ...</td>\n",
              "      <td>Amused</td>\n",
              "      <td>Stack Overflow (public Q&amp;A for anyone who codes)</td>\n",
              "      <td>Call a coworker or friend;Visit Stack Over</td>\n",
              "      <td>NaN</td>\n",
              "      <td>NaN</td>\n",
              "      <td>NaN</td>\n",
              "      <td>NaN</td>\n",
              "      <td>NaN</td>\n",
              "      <td>NaN</td>\n",
              "      <td>NaN</td>\n",
              "      <td>NaN</td>\n",
              "      <td>NaN</td>\n",
              "      <td>NaN</td>\n",
              "      <td>NaN</td>\n",
              "      <td>NaN</td>\n",
              "      <td>NaN</td>\n",
              "      <td>NaN</td>\n",
              "      <td>NaN</td>\n",
              "      <td>NaN</td>\n",
              "      <td>NaN</td>\n",
              "      <td>NaN</td>\n",
              "      <td>NaN</td>\n",
              "      <td>NaN</td>\n",
              "    </tr>\n",
              "  </tbody>\n",
              "</table>\n",
              "<p>3088 rows × 61 columns</p>\n",
              "</div>"
            ],
            "text/plain": [
              "      Respondent  ... YearsCodePro\n",
              "0              1  ...           27\n",
              "1              2  ...            4\n",
              "2              3  ...          NaN\n",
              "3              4  ...            4\n",
              "4              5  ...            8\n",
              "...          ...  ...          ...\n",
              "3083        3097  ...          NaN\n",
              "3084        3098  ...            4\n",
              "3085        3099  ...            4\n",
              "3086        3100  ...            6\n",
              "3087        3101  ...          NaN\n",
              "\n",
              "[3088 rows x 61 columns]"
            ]
          },
          "metadata": {
            "tags": []
          },
          "execution_count": 9
        }
      ]
    },
    {
      "cell_type": "code",
      "metadata": {
        "colab": {
          "base_uri": "https://localhost:8080/",
          "height": 632
        },
        "id": "SU0A2WgP8dLP",
        "outputId": "d0899bcb-22ed-4bca-cd47-3f30aaff67a5"
      },
      "source": [
        "df.head()"
      ],
      "execution_count": null,
      "outputs": [
        {
          "output_type": "execute_result",
          "data": {
            "text/html": [
              "<div>\n",
              "<style scoped>\n",
              "    .dataframe tbody tr th:only-of-type {\n",
              "        vertical-align: middle;\n",
              "    }\n",
              "\n",
              "    .dataframe tbody tr th {\n",
              "        vertical-align: top;\n",
              "    }\n",
              "\n",
              "    .dataframe thead th {\n",
              "        text-align: right;\n",
              "    }\n",
              "</style>\n",
              "<table border=\"1\" class=\"dataframe\">\n",
              "  <thead>\n",
              "    <tr style=\"text-align: right;\">\n",
              "      <th></th>\n",
              "      <th>Respondent</th>\n",
              "      <th>MainBranch</th>\n",
              "      <th>Hobbyist</th>\n",
              "      <th>Age</th>\n",
              "      <th>Age1stCode</th>\n",
              "      <th>CompFreq</th>\n",
              "      <th>CompTotal</th>\n",
              "      <th>ConvertedComp</th>\n",
              "      <th>Country</th>\n",
              "      <th>CurrencyDesc</th>\n",
              "      <th>CurrencySymbol</th>\n",
              "      <th>DatabaseDesireNextYear</th>\n",
              "      <th>DatabaseWorkedWith</th>\n",
              "      <th>DevType</th>\n",
              "      <th>EdLevel</th>\n",
              "      <th>Employment</th>\n",
              "      <th>Ethnicity</th>\n",
              "      <th>Gender</th>\n",
              "      <th>JobFactors</th>\n",
              "      <th>JobSat</th>\n",
              "      <th>JobSeek</th>\n",
              "      <th>LanguageDesireNextYear</th>\n",
              "      <th>LanguageWorkedWith</th>\n",
              "      <th>MiscTechDesireNextYear</th>\n",
              "      <th>MiscTechWorkedWith</th>\n",
              "      <th>NEWCollabToolsDesireNextYear</th>\n",
              "      <th>NEWCollabToolsWorkedWith</th>\n",
              "      <th>NEWDevOps</th>\n",
              "      <th>NEWDevOpsImpt</th>\n",
              "      <th>NEWEdImpt</th>\n",
              "      <th>NEWJobHunt</th>\n",
              "      <th>NEWJobHuntResearch</th>\n",
              "      <th>NEWLearn</th>\n",
              "      <th>NEWOffTopic</th>\n",
              "      <th>NEWOnboardGood</th>\n",
              "      <th>NEWOtherComms</th>\n",
              "      <th>NEWOvertime</th>\n",
              "      <th>NEWPurchaseResearch</th>\n",
              "      <th>NEWPurpleLink</th>\n",
              "      <th>NEWSOSites</th>\n",
              "      <th>NEWStuck</th>\n",
              "      <th>OpSys</th>\n",
              "      <th>OrgSize</th>\n",
              "      <th>PlatformDesireNextYear</th>\n",
              "      <th>PlatformWorkedWith</th>\n",
              "      <th>PurchaseWhat</th>\n",
              "      <th>Sexuality</th>\n",
              "      <th>SOAccount</th>\n",
              "      <th>SOComm</th>\n",
              "      <th>SOPartFreq</th>\n",
              "      <th>SOVisitFreq</th>\n",
              "      <th>SurveyEase</th>\n",
              "      <th>SurveyLength</th>\n",
              "      <th>Trans</th>\n",
              "      <th>UndergradMajor</th>\n",
              "      <th>WebframeDesireNextYear</th>\n",
              "      <th>WebframeWorkedWith</th>\n",
              "      <th>WelcomeChange</th>\n",
              "      <th>WorkWeekHrs</th>\n",
              "      <th>YearsCode</th>\n",
              "      <th>YearsCodePro</th>\n",
              "    </tr>\n",
              "  </thead>\n",
              "  <tbody>\n",
              "    <tr>\n",
              "      <th>0</th>\n",
              "      <td>1</td>\n",
              "      <td>I am a developer by profession</td>\n",
              "      <td>Yes</td>\n",
              "      <td>NaN</td>\n",
              "      <td>13</td>\n",
              "      <td>Monthly</td>\n",
              "      <td>NaN</td>\n",
              "      <td>NaN</td>\n",
              "      <td>Germany</td>\n",
              "      <td>European Euro</td>\n",
              "      <td>EUR</td>\n",
              "      <td>Microsoft SQL Server</td>\n",
              "      <td>Elasticsearch;Microsoft SQL Server;Oracle</td>\n",
              "      <td>Developer, desktop or enterprise applications;...</td>\n",
              "      <td>Master’s degree (M.A., M.S., M.Eng., MBA, etc.)</td>\n",
              "      <td>Independent contractor, freelancer, or self-em...</td>\n",
              "      <td>White or of European descent</td>\n",
              "      <td>Man</td>\n",
              "      <td>Languages, frameworks, and other technologies ...</td>\n",
              "      <td>Slightly satisfied</td>\n",
              "      <td>I am not interested in new job opportunities</td>\n",
              "      <td>C#;HTML/CSS;JavaScript</td>\n",
              "      <td>C#;HTML/CSS;JavaScript</td>\n",
              "      <td>.NET Core;Xamarin</td>\n",
              "      <td>.NET;.NET Core</td>\n",
              "      <td>Microsoft Teams;Microsoft Azure;Trello</td>\n",
              "      <td>Confluence;Jira;Slack;Microsoft Azure;Trello</td>\n",
              "      <td>No</td>\n",
              "      <td>Somewhat important</td>\n",
              "      <td>Fairly important</td>\n",
              "      <td>NaN</td>\n",
              "      <td>NaN</td>\n",
              "      <td>Once a year</td>\n",
              "      <td>Not sure</td>\n",
              "      <td>NaN</td>\n",
              "      <td>No</td>\n",
              "      <td>Often: 1-2 days per week or more</td>\n",
              "      <td>Start a free trial;Ask developers I know/work ...</td>\n",
              "      <td>Amused</td>\n",
              "      <td>Stack Overflow (public Q&amp;A for anyone who codes)</td>\n",
              "      <td>Visit Stack Overflow;Go for a walk or other ph...</td>\n",
              "      <td>Windows</td>\n",
              "      <td>2 to 9 employees</td>\n",
              "      <td>Android;iOS;Kubernetes;Microsoft Azure;Windows</td>\n",
              "      <td>Windows</td>\n",
              "      <td>NaN</td>\n",
              "      <td>Straight / Heterosexual</td>\n",
              "      <td>No</td>\n",
              "      <td>No, not at all</td>\n",
              "      <td>NaN</td>\n",
              "      <td>Multiple times per day</td>\n",
              "      <td>Neither easy nor difficult</td>\n",
              "      <td>Appropriate in length</td>\n",
              "      <td>No</td>\n",
              "      <td>Computer science, computer engineering, or sof...</td>\n",
              "      <td>ASP.NET Core</td>\n",
              "      <td>ASP.NET;ASP.NET Core</td>\n",
              "      <td>Just as welcome now as I felt last year</td>\n",
              "      <td>50.0</td>\n",
              "      <td>36</td>\n",
              "      <td>27</td>\n",
              "    </tr>\n",
              "    <tr>\n",
              "      <th>1</th>\n",
              "      <td>2</td>\n",
              "      <td>I am a developer by profession</td>\n",
              "      <td>No</td>\n",
              "      <td>NaN</td>\n",
              "      <td>19</td>\n",
              "      <td>NaN</td>\n",
              "      <td>NaN</td>\n",
              "      <td>NaN</td>\n",
              "      <td>United Kingdom</td>\n",
              "      <td>Pound sterling</td>\n",
              "      <td>GBP</td>\n",
              "      <td>NaN</td>\n",
              "      <td>NaN</td>\n",
              "      <td>Developer, full-stack;Developer, mobile</td>\n",
              "      <td>Bachelor’s degree (B.A., B.S., B.Eng., etc.)</td>\n",
              "      <td>Employed full-time</td>\n",
              "      <td>NaN</td>\n",
              "      <td>NaN</td>\n",
              "      <td>NaN</td>\n",
              "      <td>Very dissatisfied</td>\n",
              "      <td>I am not interested in new job opportunities</td>\n",
              "      <td>Python;Swift</td>\n",
              "      <td>JavaScript;Swift</td>\n",
              "      <td>React Native;TensorFlow;Unity 3D</td>\n",
              "      <td>React Native</td>\n",
              "      <td>Github;Slack</td>\n",
              "      <td>Confluence;Jira;Github;Gitlab;Slack</td>\n",
              "      <td>NaN</td>\n",
              "      <td>NaN</td>\n",
              "      <td>Fairly important</td>\n",
              "      <td>NaN</td>\n",
              "      <td>NaN</td>\n",
              "      <td>Once a year</td>\n",
              "      <td>Not sure</td>\n",
              "      <td>NaN</td>\n",
              "      <td>No</td>\n",
              "      <td>NaN</td>\n",
              "      <td>NaN</td>\n",
              "      <td>Amused</td>\n",
              "      <td>Stack Overflow (public Q&amp;A for anyone who code...</td>\n",
              "      <td>Visit Stack Overflow;Go for a walk or other ph...</td>\n",
              "      <td>MacOS</td>\n",
              "      <td>1,000 to 4,999 employees</td>\n",
              "      <td>iOS;Kubernetes;Linux;MacOS</td>\n",
              "      <td>iOS</td>\n",
              "      <td>I have little or no influence</td>\n",
              "      <td>NaN</td>\n",
              "      <td>Yes</td>\n",
              "      <td>Yes, definitely</td>\n",
              "      <td>Less than once per month or monthly</td>\n",
              "      <td>Multiple times per day</td>\n",
              "      <td>NaN</td>\n",
              "      <td>NaN</td>\n",
              "      <td>NaN</td>\n",
              "      <td>Computer science, computer engineering, or sof...</td>\n",
              "      <td>NaN</td>\n",
              "      <td>NaN</td>\n",
              "      <td>Somewhat more welcome now than last year</td>\n",
              "      <td>NaN</td>\n",
              "      <td>7</td>\n",
              "      <td>4</td>\n",
              "    </tr>\n",
              "    <tr>\n",
              "      <th>2</th>\n",
              "      <td>3</td>\n",
              "      <td>I code primarily as a hobby</td>\n",
              "      <td>Yes</td>\n",
              "      <td>NaN</td>\n",
              "      <td>15</td>\n",
              "      <td>NaN</td>\n",
              "      <td>NaN</td>\n",
              "      <td>NaN</td>\n",
              "      <td>Russian Federation</td>\n",
              "      <td>NaN</td>\n",
              "      <td>NaN</td>\n",
              "      <td>NaN</td>\n",
              "      <td>NaN</td>\n",
              "      <td>NaN</td>\n",
              "      <td>NaN</td>\n",
              "      <td>NaN</td>\n",
              "      <td>NaN</td>\n",
              "      <td>NaN</td>\n",
              "      <td>NaN</td>\n",
              "      <td>NaN</td>\n",
              "      <td>NaN</td>\n",
              "      <td>Objective-C;Python;Swift</td>\n",
              "      <td>Objective-C;Python;Swift</td>\n",
              "      <td>NaN</td>\n",
              "      <td>NaN</td>\n",
              "      <td>NaN</td>\n",
              "      <td>NaN</td>\n",
              "      <td>NaN</td>\n",
              "      <td>NaN</td>\n",
              "      <td>NaN</td>\n",
              "      <td>NaN</td>\n",
              "      <td>NaN</td>\n",
              "      <td>Once a decade</td>\n",
              "      <td>NaN</td>\n",
              "      <td>NaN</td>\n",
              "      <td>No</td>\n",
              "      <td>NaN</td>\n",
              "      <td>NaN</td>\n",
              "      <td>NaN</td>\n",
              "      <td>Stack Overflow (public Q&amp;A for anyone who codes)</td>\n",
              "      <td>NaN</td>\n",
              "      <td>Linux-based</td>\n",
              "      <td>NaN</td>\n",
              "      <td>NaN</td>\n",
              "      <td>NaN</td>\n",
              "      <td>NaN</td>\n",
              "      <td>NaN</td>\n",
              "      <td>Yes</td>\n",
              "      <td>Yes, somewhat</td>\n",
              "      <td>A few times per month or weekly</td>\n",
              "      <td>Daily or almost daily</td>\n",
              "      <td>Neither easy nor difficult</td>\n",
              "      <td>Appropriate in length</td>\n",
              "      <td>NaN</td>\n",
              "      <td>NaN</td>\n",
              "      <td>NaN</td>\n",
              "      <td>NaN</td>\n",
              "      <td>Somewhat more welcome now than last year</td>\n",
              "      <td>NaN</td>\n",
              "      <td>4</td>\n",
              "      <td>NaN</td>\n",
              "    </tr>\n",
              "    <tr>\n",
              "      <th>3</th>\n",
              "      <td>4</td>\n",
              "      <td>I am a developer by profession</td>\n",
              "      <td>Yes</td>\n",
              "      <td>25.0</td>\n",
              "      <td>18</td>\n",
              "      <td>NaN</td>\n",
              "      <td>NaN</td>\n",
              "      <td>NaN</td>\n",
              "      <td>Albania</td>\n",
              "      <td>Albanian lek</td>\n",
              "      <td>ALL</td>\n",
              "      <td>NaN</td>\n",
              "      <td>NaN</td>\n",
              "      <td>NaN</td>\n",
              "      <td>Master’s degree (M.A., M.S., M.Eng., MBA, etc.)</td>\n",
              "      <td>NaN</td>\n",
              "      <td>White or of European descent</td>\n",
              "      <td>Man</td>\n",
              "      <td>Flex time or a flexible schedule;Office enviro...</td>\n",
              "      <td>Slightly dissatisfied</td>\n",
              "      <td>I’m not actively looking, but I am open to new...</td>\n",
              "      <td>NaN</td>\n",
              "      <td>NaN</td>\n",
              "      <td>NaN</td>\n",
              "      <td>NaN</td>\n",
              "      <td>NaN</td>\n",
              "      <td>NaN</td>\n",
              "      <td>No</td>\n",
              "      <td>NaN</td>\n",
              "      <td>Not at all important/not necessary</td>\n",
              "      <td>Curious about other opportunities;Wanting to w...</td>\n",
              "      <td>NaN</td>\n",
              "      <td>Once a year</td>\n",
              "      <td>Not sure</td>\n",
              "      <td>Yes</td>\n",
              "      <td>Yes</td>\n",
              "      <td>Occasionally: 1-2 days per quarter but less th...</td>\n",
              "      <td>NaN</td>\n",
              "      <td>NaN</td>\n",
              "      <td>Stack Overflow (public Q&amp;A for anyone who code...</td>\n",
              "      <td>NaN</td>\n",
              "      <td>Linux-based</td>\n",
              "      <td>20 to 99 employees</td>\n",
              "      <td>NaN</td>\n",
              "      <td>NaN</td>\n",
              "      <td>I have a great deal of influence</td>\n",
              "      <td>Straight / Heterosexual</td>\n",
              "      <td>Yes</td>\n",
              "      <td>Yes, definitely</td>\n",
              "      <td>A few times per month or weekly</td>\n",
              "      <td>Multiple times per day</td>\n",
              "      <td>NaN</td>\n",
              "      <td>NaN</td>\n",
              "      <td>No</td>\n",
              "      <td>Computer science, computer engineering, or sof...</td>\n",
              "      <td>NaN</td>\n",
              "      <td>NaN</td>\n",
              "      <td>Somewhat less welcome now than last year</td>\n",
              "      <td>40.0</td>\n",
              "      <td>7</td>\n",
              "      <td>4</td>\n",
              "    </tr>\n",
              "    <tr>\n",
              "      <th>4</th>\n",
              "      <td>5</td>\n",
              "      <td>I used to be a developer by profession, but no...</td>\n",
              "      <td>Yes</td>\n",
              "      <td>31.0</td>\n",
              "      <td>16</td>\n",
              "      <td>NaN</td>\n",
              "      <td>NaN</td>\n",
              "      <td>NaN</td>\n",
              "      <td>United States</td>\n",
              "      <td>NaN</td>\n",
              "      <td>NaN</td>\n",
              "      <td>MySQL;PostgreSQL</td>\n",
              "      <td>MySQL;PostgreSQL;Redis;SQLite</td>\n",
              "      <td>NaN</td>\n",
              "      <td>Bachelor’s degree (B.A., B.S., B.Eng., etc.)</td>\n",
              "      <td>Employed full-time</td>\n",
              "      <td>White or of European descent</td>\n",
              "      <td>Man</td>\n",
              "      <td>NaN</td>\n",
              "      <td>NaN</td>\n",
              "      <td>NaN</td>\n",
              "      <td>Java;Ruby;Scala</td>\n",
              "      <td>HTML/CSS;Ruby;SQL</td>\n",
              "      <td>Ansible;Chef</td>\n",
              "      <td>Ansible</td>\n",
              "      <td>Github;Google Suite (Docs, Meet, etc)</td>\n",
              "      <td>Confluence;Jira;Github;Slack;Google Suite (Doc...</td>\n",
              "      <td>NaN</td>\n",
              "      <td>NaN</td>\n",
              "      <td>Very important</td>\n",
              "      <td>NaN</td>\n",
              "      <td>NaN</td>\n",
              "      <td>Once a year</td>\n",
              "      <td>No</td>\n",
              "      <td>NaN</td>\n",
              "      <td>Yes</td>\n",
              "      <td>NaN</td>\n",
              "      <td>Start a free trial;Ask developers I know/work ...</td>\n",
              "      <td>Hello, old friend</td>\n",
              "      <td>Stack Overflow (public Q&amp;A for anyone who code...</td>\n",
              "      <td>Call a coworker or friend;Visit Stack Overflow...</td>\n",
              "      <td>Windows</td>\n",
              "      <td>NaN</td>\n",
              "      <td>Docker;Google Cloud Platform;Heroku;Linux;Windows</td>\n",
              "      <td>AWS;Docker;Linux;MacOS;Windows</td>\n",
              "      <td>NaN</td>\n",
              "      <td>Straight / Heterosexual</td>\n",
              "      <td>Yes</td>\n",
              "      <td>Yes, somewhat</td>\n",
              "      <td>Less than once per month or monthly</td>\n",
              "      <td>A few times per month or weekly</td>\n",
              "      <td>Easy</td>\n",
              "      <td>Too short</td>\n",
              "      <td>No</td>\n",
              "      <td>Computer science, computer engineering, or sof...</td>\n",
              "      <td>Django;Ruby on Rails</td>\n",
              "      <td>Ruby on Rails</td>\n",
              "      <td>Just as welcome now as I felt last year</td>\n",
              "      <td>NaN</td>\n",
              "      <td>15</td>\n",
              "      <td>8</td>\n",
              "    </tr>\n",
              "  </tbody>\n",
              "</table>\n",
              "</div>"
            ],
            "text/plain": [
              "   Respondent  ... YearsCodePro\n",
              "0           1  ...           27\n",
              "1           2  ...            4\n",
              "2           3  ...          NaN\n",
              "3           4  ...            4\n",
              "4           5  ...            8\n",
              "\n",
              "[5 rows x 61 columns]"
            ]
          },
          "metadata": {
            "tags": []
          },
          "execution_count": 10
        }
      ]
    },
    {
      "cell_type": "code",
      "metadata": {
        "colab": {
          "base_uri": "https://localhost:8080/",
          "height": 255
        },
        "id": "U02r1mFz8kQn",
        "outputId": "8d782033-deba-415c-a288-5c60875e1d1f"
      },
      "source": [
        "df = df[[\"Country\", \"EdLevel\", \"YearsCodePro\", \"Employment\", \"ConvertedComp\"]]\n",
        "df = df.rename({\"ConvertedComp\": \"Salary\"}, axis=1)\n",
        "df.head()"
      ],
      "execution_count": null,
      "outputs": [
        {
          "output_type": "execute_result",
          "data": {
            "text/html": [
              "<div>\n",
              "<style scoped>\n",
              "    .dataframe tbody tr th:only-of-type {\n",
              "        vertical-align: middle;\n",
              "    }\n",
              "\n",
              "    .dataframe tbody tr th {\n",
              "        vertical-align: top;\n",
              "    }\n",
              "\n",
              "    .dataframe thead th {\n",
              "        text-align: right;\n",
              "    }\n",
              "</style>\n",
              "<table border=\"1\" class=\"dataframe\">\n",
              "  <thead>\n",
              "    <tr style=\"text-align: right;\">\n",
              "      <th></th>\n",
              "      <th>Country</th>\n",
              "      <th>EdLevel</th>\n",
              "      <th>YearsCodePro</th>\n",
              "      <th>Employment</th>\n",
              "      <th>Salary</th>\n",
              "    </tr>\n",
              "  </thead>\n",
              "  <tbody>\n",
              "    <tr>\n",
              "      <th>0</th>\n",
              "      <td>Germany</td>\n",
              "      <td>Master’s degree (M.A., M.S., M.Eng., MBA, etc.)</td>\n",
              "      <td>27</td>\n",
              "      <td>Independent contractor, freelancer, or self-em...</td>\n",
              "      <td>NaN</td>\n",
              "    </tr>\n",
              "    <tr>\n",
              "      <th>1</th>\n",
              "      <td>United Kingdom</td>\n",
              "      <td>Bachelor’s degree (B.A., B.S., B.Eng., etc.)</td>\n",
              "      <td>4</td>\n",
              "      <td>Employed full-time</td>\n",
              "      <td>NaN</td>\n",
              "    </tr>\n",
              "    <tr>\n",
              "      <th>2</th>\n",
              "      <td>Russian Federation</td>\n",
              "      <td>NaN</td>\n",
              "      <td>NaN</td>\n",
              "      <td>NaN</td>\n",
              "      <td>NaN</td>\n",
              "    </tr>\n",
              "    <tr>\n",
              "      <th>3</th>\n",
              "      <td>Albania</td>\n",
              "      <td>Master’s degree (M.A., M.S., M.Eng., MBA, etc.)</td>\n",
              "      <td>4</td>\n",
              "      <td>NaN</td>\n",
              "      <td>NaN</td>\n",
              "    </tr>\n",
              "    <tr>\n",
              "      <th>4</th>\n",
              "      <td>United States</td>\n",
              "      <td>Bachelor’s degree (B.A., B.S., B.Eng., etc.)</td>\n",
              "      <td>8</td>\n",
              "      <td>Employed full-time</td>\n",
              "      <td>NaN</td>\n",
              "    </tr>\n",
              "  </tbody>\n",
              "</table>\n",
              "</div>"
            ],
            "text/plain": [
              "              Country  ... Salary\n",
              "0             Germany  ...    NaN\n",
              "1      United Kingdom  ...    NaN\n",
              "2  Russian Federation  ...    NaN\n",
              "3             Albania  ...    NaN\n",
              "4       United States  ...    NaN\n",
              "\n",
              "[5 rows x 5 columns]"
            ]
          },
          "metadata": {
            "tags": []
          },
          "execution_count": 11
        }
      ]
    },
    {
      "cell_type": "code",
      "metadata": {
        "colab": {
          "base_uri": "https://localhost:8080/",
          "height": 204
        },
        "id": "c0JPj8fa8lKx",
        "outputId": "25afd4f5-34fb-4de3-f03b-03ab691e1c83"
      },
      "source": [
        "df = df[df[\"Salary\"].notnull()]\n",
        "df.head()"
      ],
      "execution_count": null,
      "outputs": [
        {
          "output_type": "execute_result",
          "data": {
            "text/html": [
              "<div>\n",
              "<style scoped>\n",
              "    .dataframe tbody tr th:only-of-type {\n",
              "        vertical-align: middle;\n",
              "    }\n",
              "\n",
              "    .dataframe tbody tr th {\n",
              "        vertical-align: top;\n",
              "    }\n",
              "\n",
              "    .dataframe thead th {\n",
              "        text-align: right;\n",
              "    }\n",
              "</style>\n",
              "<table border=\"1\" class=\"dataframe\">\n",
              "  <thead>\n",
              "    <tr style=\"text-align: right;\">\n",
              "      <th></th>\n",
              "      <th>Country</th>\n",
              "      <th>EdLevel</th>\n",
              "      <th>YearsCodePro</th>\n",
              "      <th>Employment</th>\n",
              "      <th>Salary</th>\n",
              "    </tr>\n",
              "  </thead>\n",
              "  <tbody>\n",
              "    <tr>\n",
              "      <th>7</th>\n",
              "      <td>United States</td>\n",
              "      <td>Bachelor’s degree (B.A., B.S., B.Eng., etc.)</td>\n",
              "      <td>13</td>\n",
              "      <td>Employed full-time</td>\n",
              "      <td>116000.0</td>\n",
              "    </tr>\n",
              "    <tr>\n",
              "      <th>9</th>\n",
              "      <td>United Kingdom</td>\n",
              "      <td>Master’s degree (M.A., M.S., M.Eng., MBA, etc.)</td>\n",
              "      <td>4</td>\n",
              "      <td>Employed full-time</td>\n",
              "      <td>32315.0</td>\n",
              "    </tr>\n",
              "    <tr>\n",
              "      <th>10</th>\n",
              "      <td>United Kingdom</td>\n",
              "      <td>Bachelor’s degree (B.A., B.S., B.Eng., etc.)</td>\n",
              "      <td>2</td>\n",
              "      <td>Employed full-time</td>\n",
              "      <td>40070.0</td>\n",
              "    </tr>\n",
              "    <tr>\n",
              "      <th>11</th>\n",
              "      <td>Spain</td>\n",
              "      <td>Some college/university study without earning ...</td>\n",
              "      <td>7</td>\n",
              "      <td>Employed full-time</td>\n",
              "      <td>14268.0</td>\n",
              "    </tr>\n",
              "    <tr>\n",
              "      <th>12</th>\n",
              "      <td>Netherlands</td>\n",
              "      <td>Secondary school (e.g. American high school, G...</td>\n",
              "      <td>20</td>\n",
              "      <td>Employed full-time</td>\n",
              "      <td>38916.0</td>\n",
              "    </tr>\n",
              "  </tbody>\n",
              "</table>\n",
              "</div>"
            ],
            "text/plain": [
              "           Country  ...    Salary\n",
              "7    United States  ...  116000.0\n",
              "9   United Kingdom  ...   32315.0\n",
              "10  United Kingdom  ...   40070.0\n",
              "11           Spain  ...   14268.0\n",
              "12     Netherlands  ...   38916.0\n",
              "\n",
              "[5 rows x 5 columns]"
            ]
          },
          "metadata": {
            "tags": []
          },
          "execution_count": 12
        }
      ]
    },
    {
      "cell_type": "code",
      "metadata": {
        "colab": {
          "base_uri": "https://localhost:8080/",
          "height": 204
        },
        "id": "0kmRo1RR8pWH",
        "outputId": "aa6a10a5-5788-43e0-9d7a-8f03f48ecbae"
      },
      "source": [
        "df = df[df[\"Salary\"].notnull()]\n",
        "df.head()"
      ],
      "execution_count": null,
      "outputs": [
        {
          "output_type": "execute_result",
          "data": {
            "text/html": [
              "<div>\n",
              "<style scoped>\n",
              "    .dataframe tbody tr th:only-of-type {\n",
              "        vertical-align: middle;\n",
              "    }\n",
              "\n",
              "    .dataframe tbody tr th {\n",
              "        vertical-align: top;\n",
              "    }\n",
              "\n",
              "    .dataframe thead th {\n",
              "        text-align: right;\n",
              "    }\n",
              "</style>\n",
              "<table border=\"1\" class=\"dataframe\">\n",
              "  <thead>\n",
              "    <tr style=\"text-align: right;\">\n",
              "      <th></th>\n",
              "      <th>Country</th>\n",
              "      <th>EdLevel</th>\n",
              "      <th>YearsCodePro</th>\n",
              "      <th>Employment</th>\n",
              "      <th>Salary</th>\n",
              "    </tr>\n",
              "  </thead>\n",
              "  <tbody>\n",
              "    <tr>\n",
              "      <th>7</th>\n",
              "      <td>United States</td>\n",
              "      <td>Bachelor’s degree (B.A., B.S., B.Eng., etc.)</td>\n",
              "      <td>13</td>\n",
              "      <td>Employed full-time</td>\n",
              "      <td>116000.0</td>\n",
              "    </tr>\n",
              "    <tr>\n",
              "      <th>9</th>\n",
              "      <td>United Kingdom</td>\n",
              "      <td>Master’s degree (M.A., M.S., M.Eng., MBA, etc.)</td>\n",
              "      <td>4</td>\n",
              "      <td>Employed full-time</td>\n",
              "      <td>32315.0</td>\n",
              "    </tr>\n",
              "    <tr>\n",
              "      <th>10</th>\n",
              "      <td>United Kingdom</td>\n",
              "      <td>Bachelor’s degree (B.A., B.S., B.Eng., etc.)</td>\n",
              "      <td>2</td>\n",
              "      <td>Employed full-time</td>\n",
              "      <td>40070.0</td>\n",
              "    </tr>\n",
              "    <tr>\n",
              "      <th>11</th>\n",
              "      <td>Spain</td>\n",
              "      <td>Some college/university study without earning ...</td>\n",
              "      <td>7</td>\n",
              "      <td>Employed full-time</td>\n",
              "      <td>14268.0</td>\n",
              "    </tr>\n",
              "    <tr>\n",
              "      <th>12</th>\n",
              "      <td>Netherlands</td>\n",
              "      <td>Secondary school (e.g. American high school, G...</td>\n",
              "      <td>20</td>\n",
              "      <td>Employed full-time</td>\n",
              "      <td>38916.0</td>\n",
              "    </tr>\n",
              "  </tbody>\n",
              "</table>\n",
              "</div>"
            ],
            "text/plain": [
              "           Country  ...    Salary\n",
              "7    United States  ...  116000.0\n",
              "9   United Kingdom  ...   32315.0\n",
              "10  United Kingdom  ...   40070.0\n",
              "11           Spain  ...   14268.0\n",
              "12     Netherlands  ...   38916.0\n",
              "\n",
              "[5 rows x 5 columns]"
            ]
          },
          "metadata": {
            "tags": []
          },
          "execution_count": 13
        }
      ]
    },
    {
      "cell_type": "code",
      "metadata": {
        "colab": {
          "base_uri": "https://localhost:8080/"
        },
        "id": "1n51D-Fr8tVI",
        "outputId": "cdddd20f-af02-4588-a116-95fdfdf701d0"
      },
      "source": [
        "df = df.dropna()\n",
        "df.isnull().sum()"
      ],
      "execution_count": null,
      "outputs": [
        {
          "output_type": "execute_result",
          "data": {
            "text/plain": [
              "Country         0\n",
              "EdLevel         0\n",
              "YearsCodePro    0\n",
              "Employment      0\n",
              "Salary          0\n",
              "dtype: int64"
            ]
          },
          "metadata": {
            "tags": []
          },
          "execution_count": 14
        }
      ]
    },
    {
      "cell_type": "code",
      "metadata": {
        "colab": {
          "base_uri": "https://localhost:8080/"
        },
        "id": "u6ngQXlw8txn",
        "outputId": "fc1839c7-1ba0-416c-baf8-b0d6e4cb34f3"
      },
      "source": [
        "df = df[df[\"Employment\"] == \"Employed full-time\"]\n",
        "df = df.drop(\"Employment\", axis=1)\n",
        "df.info()"
      ],
      "execution_count": null,
      "outputs": [
        {
          "output_type": "stream",
          "text": [
            "<class 'pandas.core.frame.DataFrame'>\n",
            "Int64Index: 1894 entries, 7 to 3086\n",
            "Data columns (total 4 columns):\n",
            " #   Column        Non-Null Count  Dtype  \n",
            "---  ------        --------------  -----  \n",
            " 0   Country       1894 non-null   object \n",
            " 1   EdLevel       1894 non-null   object \n",
            " 2   YearsCodePro  1894 non-null   object \n",
            " 3   Salary        1894 non-null   float64\n",
            "dtypes: float64(1), object(3)\n",
            "memory usage: 74.0+ KB\n"
          ],
          "name": "stdout"
        }
      ]
    },
    {
      "cell_type": "code",
      "metadata": {
        "colab": {
          "base_uri": "https://localhost:8080/"
        },
        "id": "baXyqq4v-Ht7",
        "outputId": "8e553a63-6191-43e0-da30-5effed906b16"
      },
      "source": [
        "df['Country'].value_counts()"
      ],
      "execution_count": null,
      "outputs": [
        {
          "output_type": "execute_result",
          "data": {
            "text/plain": [
              "United States     1068\n",
              "Canada             175\n",
              "United Kingdom     104\n",
              "Germany             66\n",
              "Brazil              54\n",
              "                  ... \n",
              "Honduras             1\n",
              "Kyrgyzstan           1\n",
              "Cyprus               1\n",
              "Azerbaijan           1\n",
              "Panama               1\n",
              "Name: Country, Length: 85, dtype: int64"
            ]
          },
          "metadata": {
            "tags": []
          },
          "execution_count": 16
        }
      ]
    },
    {
      "cell_type": "code",
      "metadata": {
        "id": "TCJzO6hd-O3D"
      },
      "source": [
        "def shorten_categories(categories, cutoff):\n",
        "    categorical_map = {}\n",
        "    for i in range(len(categories)):\n",
        "        if categories.values[i] >= cutoff:\n",
        "            categorical_map[categories.index[i]] = categories.index[i]\n",
        "        else:\n",
        "            categorical_map[categories.index[i]] = 'Other'\n",
        "    return categorical_map"
      ],
      "execution_count": null,
      "outputs": []
    },
    {
      "cell_type": "code",
      "metadata": {
        "colab": {
          "base_uri": "https://localhost:8080/"
        },
        "id": "cjmEXQri-P56",
        "outputId": "44af7b8e-a894-4c34-a99d-7c45726066a5"
      },
      "source": [
        "country_map = shorten_categories(df.Country.value_counts(), 400)\n",
        "df['Country'] = df['Country'].map(country_map)\n",
        "df.Country.value_counts()"
      ],
      "execution_count": null,
      "outputs": [
        {
          "output_type": "execute_result",
          "data": {
            "text/plain": [
              "United States    1068\n",
              "Other             826\n",
              "Name: Country, dtype: int64"
            ]
          },
          "metadata": {
            "tags": []
          },
          "execution_count": 18
        }
      ]
    },
    {
      "cell_type": "code",
      "metadata": {
        "colab": {
          "base_uri": "https://localhost:8080/",
          "height": 538
        },
        "id": "5Z57Nau4-Uey",
        "outputId": "41bf84cc-0d93-4e26-881a-0a8f16e2b9db"
      },
      "source": [
        "fig, ax = plt.subplots(1,1, figsize=(12, 7))\n",
        "df.boxplot('Salary', 'Country', ax=ax)\n",
        "plt.suptitle('Salary (US$) v Country')\n",
        "plt.title('')\n",
        "plt.ylabel('Salary')\n",
        "plt.xticks(rotation=90)\n",
        "plt.show()"
      ],
      "execution_count": null,
      "outputs": [
        {
          "output_type": "display_data",
          "data": {
            "image/png": "[encoded data removed]",
            "text/plain": [
              "<Figure size 864x504 with 1 Axes>"
            ]
          },
          "metadata": {
            "tags": [],
            "needs_background": "light"
          }
        }
      ]
    },
    {
      "cell_type": "code",
      "metadata": {
        "id": "YzkryQqk-dj0"
      },
      "source": [
        "df = df[df[\"Salary\"] <= 250000]\n",
        "df = df[df[\"Salary\"] >= 10000]\n",
        "df = df[df['Country'] != 'Other']"
      ],
      "execution_count": null,
      "outputs": []
    },
    {
      "cell_type": "code",
      "metadata": {
        "colab": {
          "base_uri": "https://localhost:8080/",
          "height": 538
        },
        "id": "G5FwSpjh-fMn",
        "outputId": "909cc6dd-4998-424c-83e9-8a73abc34dff"
      },
      "source": [
        "fig, ax = plt.subplots(1,1, figsize=(12, 7))\n",
        "df.boxplot('Salary', 'Country', ax=ax)\n",
        "plt.suptitle('Salary (US$) v Country')\n",
        "plt.title('')\n",
        "plt.ylabel('Salary')\n",
        "plt.xticks(rotation=90)\n",
        "plt.show()"
      ],
      "execution_count": null,
      "outputs": [
        {
          "output_type": "display_data",
          "data": {
            "image/png": "[encoded data removed]",
            "text/plain": [
              "<Figure size 864x504 with 1 Axes>"
            ]
          },
          "metadata": {
            "tags": [],
            "needs_background": "light"
          }
        }
      ]
    },
    {
      "cell_type": "code",
      "metadata": {
        "colab": {
          "base_uri": "https://localhost:8080/"
        },
        "id": "FZc40pk8-jUT",
        "outputId": "9d703077-e634-4204-b704-ebe3aaafac5a"
      },
      "source": [
        "df[\"YearsCodePro\"].unique()"
      ],
      "execution_count": null,
      "outputs": [
        {
          "output_type": "execute_result",
          "data": {
            "text/plain": [
              "array(['13', '1', '3', '20', '10', '29', '8', '4', '23', '15', '7', '25',\n",
              "       '2', '11', 'Less than 1 year', '5', '21', '16', '12', '18', '6',\n",
              "       '14', '32', '28', '9', '19', '22', '38', '30', '17', '24', '34',\n",
              "       '26', '35', '33', '27', '36', '40', '39', 'More than 50 years',\n",
              "       '31', '37', '41', '45', '42'], dtype=object)"
            ]
          },
          "metadata": {
            "tags": []
          },
          "execution_count": 22
        }
      ]
    },
    {
      "cell_type": "code",
      "metadata": {
        "id": "YfgnFKAF-oTf"
      },
      "source": [
        "def clean_experience(x):\n",
        "    if x ==  'More than 50 years':\n",
        "        return 50\n",
        "    if x == 'Less than 1 year':\n",
        "        return 0.5\n",
        "    return float(x)\n",
        "\n",
        "df['YearsCodePro'] = df['YearsCodePro'].apply(clean_experience)"
      ],
      "execution_count": null,
      "outputs": []
    },
    {
      "cell_type": "code",
      "metadata": {
        "colab": {
          "base_uri": "https://localhost:8080/"
        },
        "id": "xHIfVU6H-ysU",
        "outputId": "e4fa0486-fbbe-4187-b23f-163a2a4bd25a"
      },
      "source": [
        "df[\"EdLevel\"].unique()"
      ],
      "execution_count": null,
      "outputs": [
        {
          "output_type": "execute_result",
          "data": {
            "text/plain": [
              "array(['Bachelor’s degree (B.A., B.S., B.Eng., etc.)',\n",
              "       'Associate degree (A.A., A.S., etc.)',\n",
              "       'Master’s degree (M.A., M.S., M.Eng., MBA, etc.)',\n",
              "       'Professional degree (JD, MD, etc.)',\n",
              "       'Some college/university study without earning a degree',\n",
              "       'Other doctoral degree (Ph.D., Ed.D., etc.)',\n",
              "       'Secondary school (e.g. American high school, German Realschule or Gymnasium, etc.)',\n",
              "       'I never completed any formal education',\n",
              "       'Primary/elementary school'], dtype=object)"
            ]
          },
          "metadata": {
            "tags": []
          },
          "execution_count": 24
        }
      ]
    },
    {
      "cell_type": "code",
      "metadata": {
        "id": "Q9kFF8aj-3Ep"
      },
      "source": [
        "def clean_education(x):\n",
        "    if 'Bachelor’s degree' in x:\n",
        "        return 'Bachelor’s degree'\n",
        "    if 'Master’s degree' in x:\n",
        "        return 'Master’s degree'\n",
        "    if 'Professional degree' in x or 'Other doctoral' in x:\n",
        "        return 'Post grad'\n",
        "    return 'Less than a Bachelors'\n",
        "\n",
        "df['EdLevel'] = df['EdLevel'].apply(clean_education)"
      ],
      "execution_count": null,
      "outputs": []
    },
    {
      "cell_type": "code",
      "metadata": {
        "colab": {
          "base_uri": "https://localhost:8080/"
        },
        "id": "xVDtEm6a-8u8",
        "outputId": "30beb52e-1bf2-4afe-9912-2d079d7cbebe"
      },
      "source": [
        "df[\"EdLevel\"].unique()"
      ],
      "execution_count": null,
      "outputs": [
        {
          "output_type": "execute_result",
          "data": {
            "text/plain": [
              "array(['Bachelor’s degree', 'Less than a Bachelors', 'Master’s degree',\n",
              "       'Post grad'], dtype=object)"
            ]
          },
          "metadata": {
            "tags": []
          },
          "execution_count": 26
        }
      ]
    },
    {
      "cell_type": "code",
      "metadata": {
        "colab": {
          "base_uri": "https://localhost:8080/"
        },
        "id": "DHNPR-w8_AjW",
        "outputId": "b87f4347-dc17-46c9-ade6-b53cffae0276"
      },
      "source": [
        "from sklearn.preprocessing import LabelEncoder\n",
        "le_education = LabelEncoder()\n",
        "df['EdLevel'] = le_education.fit_transform(df['EdLevel'])\n",
        "df[\"EdLevel\"].unique()\n",
        "#le.classes_"
      ],
      "execution_count": null,
      "outputs": [
        {
          "output_type": "execute_result",
          "data": {
            "text/plain": [
              "array([0, 1, 2, 3])"
            ]
          },
          "metadata": {
            "tags": []
          },
          "execution_count": 27
        }
      ]
    },
    {
      "cell_type": "code",
      "metadata": {
        "colab": {
          "base_uri": "https://localhost:8080/"
        },
        "id": "YHu1EqMr_GoI",
        "outputId": "1fe74b78-e613-41fb-b60c-0b44a6f05871"
      },
      "source": [
        "le_country = LabelEncoder()\n",
        "df['Country'] = le_country.fit_transform(df['Country'])\n",
        "df[\"Country\"].unique()"
      ],
      "execution_count": null,
      "outputs": [
        {
          "output_type": "execute_result",
          "data": {
            "text/plain": [
              "array([0])"
            ]
          },
          "metadata": {
            "tags": []
          },
          "execution_count": 28
        }
      ]
    },
    {
      "cell_type": "code",
      "metadata": {
        "id": "26fOQSsZ_Mtt"
      },
      "source": [
        "X = df.drop(\"Salary\", axis=1)\n",
        "y = df[\"Salary\"]"
      ],
      "execution_count": null,
      "outputs": []
    },
    {
      "cell_type": "code",
      "metadata": {
        "colab": {
          "base_uri": "https://localhost:8080/"
        },
        "id": "lyedV1Fj_Xui",
        "outputId": "d7aa6cb3-e080-4ca4-8952-953d180eab05"
      },
      "source": [
        "from sklearn.linear_model import LinearRegression\n",
        "linear_reg = LinearRegression()\n",
        "linear_reg.fit(X, y.values)"
      ],
      "execution_count": null,
      "outputs": [
        {
          "output_type": "execute_result",
          "data": {
            "text/plain": [
              "LinearRegression(copy_X=True, fit_intercept=True, n_jobs=None, normalize=False)"
            ]
          },
          "metadata": {
            "tags": []
          },
          "execution_count": 30
        }
      ]
    },
    {
      "cell_type": "code",
      "metadata": {
        "id": "M2peFtfi_Y67"
      },
      "source": [
        "y_pred = linear_reg.predict(X)"
      ],
      "execution_count": null,
      "outputs": []
    },
    {
      "cell_type": "code",
      "metadata": {
        "id": "fRsTb13h_fut"
      },
      "source": [
        "from sklearn.metrics import mean_squared_error, mean_absolute_error\n",
        "import numpy as np\n",
        "error = np.sqrt(mean_squared_error(y, y_pred))"
      ],
      "execution_count": null,
      "outputs": []
    },
    {
      "cell_type": "code",
      "metadata": {
        "colab": {
          "base_uri": "https://localhost:8080/"
        },
        "id": "homYv5tr_mRO",
        "outputId": "1fa30717-c37c-43eb-cb6c-21947bf15d7a"
      },
      "source": [
        "error"
      ],
      "execution_count": null,
      "outputs": [
        {
          "output_type": "execute_result",
          "data": {
            "text/plain": [
              "38564.395917830654"
            ]
          },
          "metadata": {
            "tags": []
          },
          "execution_count": 33
        }
      ]
    },
    {
      "cell_type": "code",
      "metadata": {
        "colab": {
          "base_uri": "https://localhost:8080/"
        },
        "id": "Mt4zllPk_8EV",
        "outputId": "4cbd0e21-70d6-4e7f-d110-a8a422aab32d"
      },
      "source": [
        "from sklearn.tree import DecisionTreeRegressor\n",
        "dec_tree_reg = DecisionTreeRegressor(random_state=0)\n",
        "dec_tree_reg.fit(X, y.values)"
      ],
      "execution_count": null,
      "outputs": [
        {
          "output_type": "execute_result",
          "data": {
            "text/plain": [
              "DecisionTreeRegressor(ccp_alpha=0.0, criterion='mse', max_depth=None,\n",
              "                      max_features=None, max_leaf_nodes=None,\n",
              "                      min_impurity_decrease=0.0, min_impurity_split=None,\n",
              "                      min_samples_leaf=1, min_samples_split=2,\n",
              "                      min_weight_fraction_leaf=0.0, presort='deprecated',\n",
              "                      random_state=0, splitter='best')"
            ]
          },
          "metadata": {
            "tags": []
          },
          "execution_count": 34
        }
      ]
    },
    {
      "cell_type": "code",
      "metadata": {
        "id": "Q6IGEuwmAALC"
      },
      "source": [
        "y_pred = dec_tree_reg.predict(X)"
      ],
      "execution_count": null,
      "outputs": []
    },
    {
      "cell_type": "code",
      "metadata": {
        "colab": {
          "base_uri": "https://localhost:8080/"
        },
        "id": "mdlCPu0dAE1m",
        "outputId": "d04597db-2d8c-49e9-e21f-80ea48b06474"
      },
      "source": [
        "error = np.sqrt(mean_squared_error(y, y_pred))\n",
        "print(\"${:,.02f}\".format(error))"
      ],
      "execution_count": null,
      "outputs": [
        {
          "output_type": "stream",
          "text": [
            "$33,573.21\n"
          ],
          "name": "stdout"
        }
      ]
    },
    {
      "cell_type": "code",
      "metadata": {
        "colab": {
          "base_uri": "https://localhost:8080/"
        },
        "id": "2Ni6-C-2AJR7",
        "outputId": "6e8fad5a-828e-4c9e-eddd-b5051c167f70"
      },
      "source": [
        "from sklearn.ensemble import RandomForestRegressor\n",
        "random_forest_reg = RandomForestRegressor(random_state=0)\n",
        "random_forest_reg.fit(X, y.values)"
      ],
      "execution_count": null,
      "outputs": [
        {
          "output_type": "execute_result",
          "data": {
            "text/plain": [
              "RandomForestRegressor(bootstrap=True, ccp_alpha=0.0, criterion='mse',\n",
              "                      max_depth=None, max_features='auto', max_leaf_nodes=None,\n",
              "                      max_samples=None, min_impurity_decrease=0.0,\n",
              "                      min_impurity_split=None, min_samples_leaf=1,\n",
              "                      min_samples_split=2, min_weight_fraction_leaf=0.0,\n",
              "                      n_estimators=100, n_jobs=None, oob_score=False,\n",
              "                      random_state=0, verbose=0, warm_start=False)"
            ]
          },
          "metadata": {
            "tags": []
          },
          "execution_count": 37
        }
      ]
    },
    {
      "cell_type": "code",
      "metadata": {
        "id": "FhPzf0PpAW0H"
      },
      "source": [
        "y_pred = random_forest_reg.predict(X)"
      ],
      "execution_count": null,
      "outputs": []
    },
    {
      "cell_type": "code",
      "metadata": {
        "colab": {
          "base_uri": "https://localhost:8080/"
        },
        "id": "gtyuHYGiAXsb",
        "outputId": "0a14a7db-0593-4108-887f-722b60e5fe91"
      },
      "source": [
        "error = np.sqrt(mean_squared_error(y, y_pred))\n",
        "print(\"${:,.02f}\".format(error))"
      ],
      "execution_count": null,
      "outputs": [
        {
          "output_type": "stream",
          "text": [
            "$33,834.38\n"
          ],
          "name": "stdout"
        }
      ]
    },
    {
      "cell_type": "code",
      "metadata": {
        "colab": {
          "base_uri": "https://localhost:8080/"
        },
        "id": "3ivw20O2Aihc",
        "outputId": "1236f0d4-a680-43a5-d02e-7bbe167db491"
      },
      "source": [
        "from sklearn.model_selection import GridSearchCV\n",
        "\n",
        "max_depth = [None, 2,4,6,8,10,12]\n",
        "parameters = {\"max_depth\": max_depth}\n",
        "\n",
        "regressor = DecisionTreeRegressor(random_state=0)\n",
        "gs = GridSearchCV(regressor, parameters, scoring='neg_mean_squared_error')\n",
        "gs.fit(X, y.values)"
      ],
      "execution_count": null,
      "outputs": [
        {
          "output_type": "execute_result",
          "data": {
            "text/plain": [
              "GridSearchCV(cv=None, error_score=nan,\n",
              "             estimator=DecisionTreeRegressor(ccp_alpha=0.0, criterion='mse',\n",
              "                                             max_depth=None, max_features=None,\n",
              "                                             max_leaf_nodes=None,\n",
              "                                             min_impurity_decrease=0.0,\n",
              "                                             min_impurity_split=None,\n",
              "                                             min_samples_leaf=1,\n",
              "                                             min_samples_split=2,\n",
              "                                             min_weight_fraction_leaf=0.0,\n",
              "                                             presort='deprecated',\n",
              "                                             random_state=0, splitter='best'),\n",
              "             iid='deprecated', n_jobs=None,\n",
              "             param_grid={'max_depth': [None, 2, 4, 6, 8, 10, 12]},\n",
              "             pre_dispatch='2*n_jobs', refit=True, return_train_score=False,\n",
              "             scoring='neg_mean_squared_error', verbose=0)"
            ]
          },
          "metadata": {
            "tags": []
          },
          "execution_count": 40
        }
      ]
    },
    {
      "cell_type": "code",
      "metadata": {
        "colab": {
          "base_uri": "https://localhost:8080/"
        },
        "id": "CNlE1wvNAjuz",
        "outputId": "5c4f44c4-c925-4add-ddf4-8088cd37818f"
      },
      "source": [
        "regressor = gs.best_estimator_\n",
        "\n",
        "regressor.fit(X, y.values)\n",
        "y_pred = regressor.predict(X)\n",
        "error = np.sqrt(mean_squared_error(y, y_pred))\n",
        "print(\"${:,.02f}\".format(error))"
      ],
      "execution_count": null,
      "outputs": [
        {
          "output_type": "stream",
          "text": [
            "$37,663.30\n"
          ],
          "name": "stdout"
        }
      ]
    },
    {
      "cell_type": "code",
      "metadata": {
        "colab": {
          "base_uri": "https://localhost:8080/",
          "height": 419
        },
        "id": "UuRrqgx3AtXj",
        "outputId": "d3c36772-df2f-4db1-c158-87c9c6f50312"
      },
      "source": [
        "X"
      ],
      "execution_count": null,
      "outputs": [
        {
          "output_type": "execute_result",
          "data": {
            "text/html": [
              "<div>\n",
              "<style scoped>\n",
              "    .dataframe tbody tr th:only-of-type {\n",
              "        vertical-align: middle;\n",
              "    }\n",
              "\n",
              "    .dataframe tbody tr th {\n",
              "        vertical-align: top;\n",
              "    }\n",
              "\n",
              "    .dataframe thead th {\n",
              "        text-align: right;\n",
              "    }\n",
              "</style>\n",
              "<table border=\"1\" class=\"dataframe\">\n",
              "  <thead>\n",
              "    <tr style=\"text-align: right;\">\n",
              "      <th></th>\n",
              "      <th>Country</th>\n",
              "      <th>EdLevel</th>\n",
              "      <th>YearsCodePro</th>\n",
              "    </tr>\n",
              "  </thead>\n",
              "  <tbody>\n",
              "    <tr>\n",
              "      <th>7</th>\n",
              "      <td>0</td>\n",
              "      <td>0</td>\n",
              "      <td>13.0</td>\n",
              "    </tr>\n",
              "    <tr>\n",
              "      <th>13</th>\n",
              "      <td>0</td>\n",
              "      <td>1</td>\n",
              "      <td>1.0</td>\n",
              "    </tr>\n",
              "    <tr>\n",
              "      <th>16</th>\n",
              "      <td>0</td>\n",
              "      <td>0</td>\n",
              "      <td>3.0</td>\n",
              "    </tr>\n",
              "    <tr>\n",
              "      <th>18</th>\n",
              "      <td>0</td>\n",
              "      <td>0</td>\n",
              "      <td>3.0</td>\n",
              "    </tr>\n",
              "    <tr>\n",
              "      <th>40</th>\n",
              "      <td>0</td>\n",
              "      <td>2</td>\n",
              "      <td>20.0</td>\n",
              "    </tr>\n",
              "    <tr>\n",
              "      <th>...</th>\n",
              "      <td>...</td>\n",
              "      <td>...</td>\n",
              "      <td>...</td>\n",
              "    </tr>\n",
              "    <tr>\n",
              "      <th>3070</th>\n",
              "      <td>0</td>\n",
              "      <td>0</td>\n",
              "      <td>2.0</td>\n",
              "    </tr>\n",
              "    <tr>\n",
              "      <th>3080</th>\n",
              "      <td>0</td>\n",
              "      <td>1</td>\n",
              "      <td>8.0</td>\n",
              "    </tr>\n",
              "    <tr>\n",
              "      <th>3084</th>\n",
              "      <td>0</td>\n",
              "      <td>2</td>\n",
              "      <td>4.0</td>\n",
              "    </tr>\n",
              "    <tr>\n",
              "      <th>3085</th>\n",
              "      <td>0</td>\n",
              "      <td>0</td>\n",
              "      <td>4.0</td>\n",
              "    </tr>\n",
              "    <tr>\n",
              "      <th>3086</th>\n",
              "      <td>0</td>\n",
              "      <td>2</td>\n",
              "      <td>6.0</td>\n",
              "    </tr>\n",
              "  </tbody>\n",
              "</table>\n",
              "<p>974 rows × 3 columns</p>\n",
              "</div>"
            ],
            "text/plain": [
              "      Country  EdLevel  YearsCodePro\n",
              "7           0        0          13.0\n",
              "13          0        1           1.0\n",
              "16          0        0           3.0\n",
              "18          0        0           3.0\n",
              "40          0        2          20.0\n",
              "...       ...      ...           ...\n",
              "3070        0        0           2.0\n",
              "3080        0        1           8.0\n",
              "3084        0        2           4.0\n",
              "3085        0        0           4.0\n",
              "3086        0        2           6.0\n",
              "\n",
              "[974 rows x 3 columns]"
            ]
          },
          "metadata": {
            "tags": []
          },
          "execution_count": 42
        }
      ]
    },
    {
      "cell_type": "code",
      "metadata": {
        "colab": {
          "base_uri": "https://localhost:8080/"
        },
        "id": "GC6Pw0rIAuUy",
        "outputId": "b56d263d-0981-4e80-948c-3553b31da15e"
      },
      "source": [
        "# country, edlevel, yearscode\n",
        "X = np.array([[\"United States\", 'Master’s degree', 15 ]])\n",
        "X"
      ],
      "execution_count": null,
      "outputs": [
        {
          "output_type": "execute_result",
          "data": {
            "text/plain": [
              "array([['United States', 'Master’s degree', '15']], dtype='<U15')"
            ]
          },
          "metadata": {
            "tags": []
          },
          "execution_count": 43
        }
      ]
    },
    {
      "cell_type": "code",
      "metadata": {
        "colab": {
          "base_uri": "https://localhost:8080/"
        },
        "id": "xLUPBZr7A11r",
        "outputId": "7ee515ee-7831-447a-c807-b82c62cc39f5"
      },
      "source": [
        "X[:, 0] = le_country.transform(X[:,0])\n",
        "X[:, 1] = le_education.transform(X[:,1])\n",
        "X = X.astype(float)\n",
        "X"
      ],
      "execution_count": null,
      "outputs": [
        {
          "output_type": "execute_result",
          "data": {
            "text/plain": [
              "array([[ 0.,  2., 15.]])"
            ]
          },
          "metadata": {
            "tags": []
          },
          "execution_count": 44
        }
      ]
    },
    {
      "cell_type": "code",
      "metadata": {
        "colab": {
          "base_uri": "https://localhost:8080/"
        },
        "id": "fvX1yFOPA8mo",
        "outputId": "7627aad9-d9b5-4484-a4e5-834321411b6b"
      },
      "source": [
        "y_pred = regressor.predict(X)\n",
        "y_pred"
      ],
      "execution_count": null,
      "outputs": [
        {
          "output_type": "execute_result",
          "data": {
            "text/plain": [
              "array([141560.58644068])"
            ]
          },
          "metadata": {
            "tags": []
          },
          "execution_count": 45
        }
      ]
    },
    {
      "cell_type": "code",
      "metadata": {
        "id": "-hg83jPoBB1x"
      },
      "source": [
        "import pickle"
      ],
      "execution_count": null,
      "outputs": []
    },
    {
      "cell_type": "code",
      "metadata": {
        "id": "16XePYAVBJX5"
      },
      "source": [
        "data = {\"model\": regressor, \"le_country\": le_country, \"le_education\": le_education}\n",
        "with open('saved_steps.pkl', 'wb') as file:\n",
        "    pickle.dump(data, file)"
      ],
      "execution_count": null,
      "outputs": []
    },
    {
      "cell_type": "code",
      "metadata": {
        "id": "7mnC-UAzBQEl"
      },
      "source": [
        "with open('saved_steps.pkl', 'rb') as file:\n",
        "    data = pickle.load(file)\n",
        "\n",
        "regressor_loaded = data[\"model\"]\n",
        "le_country = data[\"le_country\"]\n",
        "le_education = data[\"le_education\"]"
      ],
      "execution_count": null,
      "outputs": []
    },
    {
      "cell_type": "code",
      "metadata": {
        "colab": {
          "base_uri": "https://localhost:8080/"
        },
        "id": "UR3rBCfuBZVy",
        "outputId": "b15d99df-253c-445b-b875-21d7249b5bbf"
      },
      "source": [
        "y_pred = regressor_loaded.predict(X)\n",
        "y_pred"
      ],
      "execution_count": null,
      "outputs": [
        {
          "output_type": "execute_result",
          "data": {
            "text/plain": [
              "array([141560.58644068])"
            ]
          },
          "metadata": {
            "tags": []
          },
          "execution_count": 49
        }
      ]
    }
  ]
}